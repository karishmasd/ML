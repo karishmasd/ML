{
  "nbformat": 4,
  "nbformat_minor": 0,
  "metadata": {
    "colab": {
      "provenance": [],
      "mount_file_id": "1AoPuVYTsnU01Jc0oO7YVpYNYEbRsmWHb",
      "authorship_tag": "ABX9TyO1qs9yjuO/slfyF6kOpkfz",
      "include_colab_link": true
    },
    "kernelspec": {
      "name": "python3",
      "display_name": "Python 3"
    },
    "language_info": {
      "name": "python"
    }
  },
  "cells": [
    {
      "cell_type": "markdown",
      "metadata": {
        "id": "view-in-github",
        "colab_type": "text"
      },
      "source": [
        "<a href=\"https://colab.research.google.com/github/karishmasd/ML/blob/main/Logistic_Regression.ipynb\" target=\"_parent\"><img src=\"https://colab.research.google.com/assets/colab-badge.svg\" alt=\"Open In Colab\"/></a>"
      ]
    },
    {
      "cell_type": "code",
      "execution_count": 3,
      "metadata": {
        "id": "AiDlCHNgpCL_"
      },
      "outputs": [],
      "source": [
        "import numpy as np\n",
        "import math\n",
        "import copy\n",
        "import matplotlib.pyplot as plt\n",
        "%matplotlib inline\n"
      ]
    },
    {
      "cell_type": "markdown",
      "source": [
        "#**Data**"
      ],
      "metadata": {
        "id": "g37SXmXG08rt"
      }
    },
    {
      "cell_type": "code",
      "source": [
        "def load_data():\n",
        "    data = np.loadtxt(\"/content/drive/MyDrive/Data/ex2data1.txt\", delimiter=',')\n",
        "    X = data[:,:2]\n",
        "    y = data[:,2]\n",
        "    return X, y\n"
      ],
      "metadata": {
        "id": "5BtN-P3S4kAE"
      },
      "execution_count": 11,
      "outputs": []
    },
    {
      "cell_type": "code",
      "source": [
        "X_train,y_train=load_data()"
      ],
      "metadata": {
        "id": "sxvXoDox1Dyu"
      },
      "execution_count": 12,
      "outputs": []
    },
    {
      "cell_type": "code",
      "source": [
        "X_train[:5]"
      ],
      "metadata": {
        "colab": {
          "base_uri": "https://localhost:8080/"
        },
        "id": "JqmeidkQ4nkp",
        "outputId": "a49bd58d-1e70-4996-c993-3dcd3ad7a121"
      },
      "execution_count": 13,
      "outputs": [
        {
          "output_type": "execute_result",
          "data": {
            "text/plain": [
              "array([[34.62365962, 78.02469282],\n",
              "       [30.28671077, 43.89499752],\n",
              "       [35.84740877, 72.90219803],\n",
              "       [60.18259939, 86.3085521 ],\n",
              "       [79.03273605, 75.34437644]])"
            ]
          },
          "metadata": {},
          "execution_count": 13
        }
      ]
    },
    {
      "cell_type": "code",
      "source": [
        "y_train[:5]"
      ],
      "metadata": {
        "colab": {
          "base_uri": "https://localhost:8080/"
        },
        "id": "PtkGE5iX4v-m",
        "outputId": "6b93d2f0-48c4-4530-992d-a23f2b452f3e"
      },
      "execution_count": 14,
      "outputs": [
        {
          "output_type": "execute_result",
          "data": {
            "text/plain": [
              "array([0., 0., 0., 1., 1.])"
            ]
          },
          "metadata": {},
          "execution_count": 14
        }
      ]
    },
    {
      "cell_type": "code",
      "source": [
        "X_train.shape"
      ],
      "metadata": {
        "colab": {
          "base_uri": "https://localhost:8080/"
        },
        "id": "EOCY0jgx4yVJ",
        "outputId": "5743d6c0-faf1-4ebb-d367-ab4931940a1c"
      },
      "execution_count": 17,
      "outputs": [
        {
          "output_type": "execute_result",
          "data": {
            "text/plain": [
              "(100, 2)"
            ]
          },
          "metadata": {},
          "execution_count": 17
        }
      ]
    },
    {
      "cell_type": "code",
      "source": [
        "y_train.shape"
      ],
      "metadata": {
        "colab": {
          "base_uri": "https://localhost:8080/"
        },
        "id": "50pJ-Rre5Y45",
        "outputId": "cf201ac9-978e-4e10-aeaf-e48c11a1a7f6"
      },
      "execution_count": 18,
      "outputs": [
        {
          "output_type": "execute_result",
          "data": {
            "text/plain": [
              "(100,)"
            ]
          },
          "metadata": {},
          "execution_count": 18
        }
      ]
    },
    {
      "cell_type": "code",
      "source": [
        "def plot_data(X, y, pos_label=\"y=1\", neg_label=\"y=0\"):\n",
        "    positive = y == 1\n",
        "    negative = y == 0\n",
        "\n",
        "    # Plot examples\n",
        "    plt.plot(X[positive, 0], X[positive, 1], 'k+', label=pos_label)\n",
        "    plt.plot(X[negative, 0], X[negative, 1], 'yo', label=neg_label)\n",
        "\n"
      ],
      "metadata": {
        "id": "StBiJalP58Cs"
      },
      "execution_count": 19,
      "outputs": []
    },
    {
      "cell_type": "code",
      "source": [
        "plot_data(X_train, y_train[:], pos_label=\"Admitted\", neg_label=\"Not admitted\")\n",
        "plt.ylabel('Exam 2 score')\n",
        "plt.xlabel('Exam 1 score')\n",
        "plt.legend(loc=\"upper right\",fontsize=8)\n",
        "plt.show()"
      ],
      "metadata": {
        "colab": {
          "base_uri": "https://localhost:8080/",
          "height": 449
        },
        "id": "b35jRG6x5o64",
        "outputId": "4e9af486-6d31-439a-b025-35dee7c12de2"
      },
      "execution_count": 23,
      "outputs": [
        {
          "output_type": "display_data",
          "data": {
            "text/plain": [
              "<Figure size 640x480 with 1 Axes>"
            ],
            "image/png": "[encoded data removed]"
          },
          "metadata": {}
        }
      ]
    },
    {
      "cell_type": "code",
      "source": [],
      "metadata": {
        "id": "IOYC6CJ75_q-"
      },
      "execution_count": null,
      "outputs": []
    }
  ]
}