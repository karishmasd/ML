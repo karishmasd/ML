{
  "nbformat": 4,
  "nbformat_minor": 0,
  "metadata": {
    "colab": {
      "provenance": [],
      "mount_file_id": "1AoPuVYTsnU01Jc0oO7YVpYNYEbRsmWHb",
      "authorship_tag": "ABX9TyPUi3oByLOTQGLSodbF43v7",
      "include_colab_link": true
    },
    "kernelspec": {
      "name": "python3",
      "display_name": "Python 3"
    },
    "language_info": {
      "name": "python"
    }
  },
  "cells": [
    {
      "cell_type": "markdown",
      "metadata": {
        "id": "view-in-github",
        "colab_type": "text"
      },
      "source": [
        "<a href=\"https://colab.research.google.com/github/karishmasd/ML/blob/main/Logistic_Regression.ipynb\" target=\"_parent\"><img src=\"https://colab.research.google.com/assets/colab-badge.svg\" alt=\"Open In Colab\"/></a>"
      ]
    },
    {
      "cell_type": "code",
      "execution_count": 1,
      "metadata": {
        "id": "AiDlCHNgpCL_"
      },
      "outputs": [],
      "source": [
        "import numpy as np\n",
        "import math\n",
        "import copy\n",
        "import matplotlib.pyplot as plt\n",
        "%matplotlib inline\n"
      ]
    },
    {
      "cell_type": "markdown",
      "source": [
        "#**Data**"
      ],
      "metadata": {
        "id": "g37SXmXG08rt"
      }
    },
    {
      "cell_type": "code",
      "source": [
        "def load_data():\n",
        "    data = np.loadtxt(\"/content/drive/MyDrive/Data/ex2data1.txt\", delimiter=',')\n",
        "    X = data[:,:2]\n",
        "    y = data[:,2]\n",
        "    return X, y\n"
      ],
      "metadata": {
        "id": "5BtN-P3S4kAE"
      },
      "execution_count": 2,
      "outputs": []
    },
    {
      "cell_type": "code",
      "source": [
        "X_train,y_train=load_data()"
      ],
      "metadata": {
        "id": "sxvXoDox1Dyu"
      },
      "execution_count": 3,
      "outputs": []
    },
    {
      "cell_type": "code",
      "source": [
        "X_train[:5]"
      ],
      "metadata": {
        "colab": {
          "base_uri": "https://localhost:8080/"
        },
        "id": "JqmeidkQ4nkp",
        "outputId": "3f934079-f1b5-4c53-8105-a663c007bddb"
      },
      "execution_count": 4,
      "outputs": [
        {
          "output_type": "execute_result",
          "data": {
            "text/plain": [
              "array([[34.62365962, 78.02469282],\n",
              "       [30.28671077, 43.89499752],\n",
              "       [35.84740877, 72.90219803],\n",
              "       [60.18259939, 86.3085521 ],\n",
              "       [79.03273605, 75.34437644]])"
            ]
          },
          "metadata": {},
          "execution_count": 4
        }
      ]
    },
    {
      "cell_type": "code",
      "source": [
        "y_train[:5]"
      ],
      "metadata": {
        "colab": {
          "base_uri": "https://localhost:8080/"
        },
        "id": "PtkGE5iX4v-m",
        "outputId": "fa6236f2-cc55-49d4-97e6-b1cd7a144e27"
      },
      "execution_count": 5,
      "outputs": [
        {
          "output_type": "execute_result",
          "data": {
            "text/plain": [
              "array([0., 0., 0., 1., 1.])"
            ]
          },
          "metadata": {},
          "execution_count": 5
        }
      ]
    },
    {
      "cell_type": "code",
      "source": [
        "X_train.shape"
      ],
      "metadata": {
        "colab": {
          "base_uri": "https://localhost:8080/"
        },
        "id": "EOCY0jgx4yVJ",
        "outputId": "5e7e2370-ee3d-423a-f3e0-f511851f64b9"
      },
      "execution_count": 6,
      "outputs": [
        {
          "output_type": "execute_result",
          "data": {
            "text/plain": [
              "(100, 2)"
            ]
          },
          "metadata": {},
          "execution_count": 6
        }
      ]
    },
    {
      "cell_type": "code",
      "source": [
        "y_train.shape"
      ],
      "metadata": {
        "colab": {
          "base_uri": "https://localhost:8080/"
        },
        "id": "50pJ-Rre5Y45",
        "outputId": "363a75c8-0c62-4ec8-8ef5-099f32df9119"
      },
      "execution_count": 7,
      "outputs": [
        {
          "output_type": "execute_result",
          "data": {
            "text/plain": [
              "(100,)"
            ]
          },
          "metadata": {},
          "execution_count": 7
        }
      ]
    },
    {
      "cell_type": "code",
      "source": [
        "def plot_data(X, y, pos_label=\"y=1\", neg_label=\"y=0\"):\n",
        "    positive = y == 1\n",
        "    negative = y == 0\n",
        "\n",
        "    # Plot examples\n",
        "    plt.plot(X[positive, 0], X[positive, 1], 'k+', label=pos_label)\n",
        "    plt.plot(X[negative, 0], X[negative, 1], 'yo', label=neg_label)\n",
        "\n"
      ],
      "metadata": {
        "id": "StBiJalP58Cs"
      },
      "execution_count": 8,
      "outputs": []
    },
    {
      "cell_type": "code",
      "source": [
        "plot_data(X_train, y_train[:], pos_label=\"Admitted\", neg_label=\"Not admitted\")\n",
        "plt.ylabel('Exam 2 score')\n",
        "plt.xlabel('Exam 1 score')\n",
        "plt.legend(loc=\"upper right\",fontsize=8)\n",
        "plt.show()"
      ],
      "metadata": {
        "colab": {
          "base_uri": "https://localhost:8080/",
          "height": 449
        },
        "id": "b35jRG6x5o64",
        "outputId": "8fa2c8d9-e52e-4b9c-9675-bc150d92a860"
      },
      "execution_count": 9,
      "outputs": [
        {
          "output_type": "display_data",
          "data": {
            "text/plain": [
              "<Figure size 640x480 with 1 Axes>"
            ],
            "image/png": "[encoded data removed]"
          },
          "metadata": {}
        }
      ]
    },
    {
      "cell_type": "markdown",
      "source": [
        "#**Sigmoid function**"
      ],
      "metadata": {
        "id": "rjXL2xfZgcNd"
      }
    },
    {
      "cell_type": "code",
      "source": [
        "def sigmoid(z):\n",
        "  s=1/(1+np.exp(-z))\n",
        "  return s"
      ],
      "metadata": {
        "id": "IOYC6CJ75_q-"
      },
      "execution_count": 10,
      "outputs": []
    },
    {
      "cell_type": "code",
      "source": [
        "# checking sigmoid function we know that  sigmoid of 0 should be 0.5\n",
        "check_value=0\n",
        "sigmoid(check_value)"
      ],
      "metadata": {
        "colab": {
          "base_uri": "https://localhost:8080/"
        },
        "id": "yRsWam2OgpET",
        "outputId": "2843d853-c142-454d-9564-fa49ca91527b"
      },
      "execution_count": 11,
      "outputs": [
        {
          "output_type": "execute_result",
          "data": {
            "text/plain": [
              "0.5"
            ]
          },
          "metadata": {},
          "execution_count": 11
        }
      ]
    },
    {
      "cell_type": "markdown",
      "source": [
        "#**Cost Function for logistic Regression**"
      ],
      "metadata": {
        "id": "JaP_fF_ohC5Z"
      }
    },
    {
      "cell_type": "code",
      "source": [
        "def compute_cost(X,y,w,b):\n",
        "  total_cost=0\n",
        "  m=X_train.shape[0]\n",
        "  for i in range(m):\n",
        "    f=np.dot(X[i],w)+b\n",
        "    cost=-((y[i]*np.log(sigmoid(f)))+((1-y[i])*np.log(1-sigmoid(f))))\n",
        "    total_cost+=cost\n",
        "  total_cost=total_cost/m\n",
        "  return total_cost"
      ],
      "metadata": {
        "id": "yVr5qqkBg77m"
      },
      "execution_count": 12,
      "outputs": []
    },
    {
      "cell_type": "code",
      "source": [
        "m, n = X_train.shape\n",
        "initial_w = np.zeros(n)\n",
        "initial_b = 0.\n",
        "cost = compute_cost(X_train, y_train, initial_w, initial_b)\n",
        "print('Cost at initial w and b (zeros): {:.3f}'.format(cost))"
      ],
      "metadata": {
        "colab": {
          "base_uri": "https://localhost:8080/"
        },
        "id": "-AYEjJ8yihq3",
        "outputId": "38b90d3c-27b5-49f2-b3e0-f5f2af9bc5f5"
      },
      "execution_count": 13,
      "outputs": [
        {
          "output_type": "stream",
          "name": "stdout",
          "text": [
            "Cost at initial w and b (zeros): 0.693\n"
          ]
        }
      ]
    },
    {
      "cell_type": "markdown",
      "source": [
        "#**Gradient for logistic regression**"
      ],
      "metadata": {
        "id": "oilSKZPIi8ZW"
      }
    },
    {
      "cell_type": "code",
      "source": [
        "def gradient(X,y,w,b):\n",
        "    m, n = X.shape\n",
        "    dj_dw = np.zeros(w.shape)\n",
        "    dj_db = 0.\n",
        "    for i in range(m):\n",
        "        z_wb = 0\n",
        "        for j in range(n):\n",
        "            z_wb += X[i, j] * w[j]\n",
        "        z_wb +=b\n",
        "        f_wb = sigmoid(z_wb)\n",
        "\n",
        "        dj_db_i =f_wb - y[i]\n",
        "        dj_db += dj_db_i\n",
        "\n",
        "        for j in range(n):\n",
        "            dj_dw[j] +=  (f_wb - y[i]) * X[i, j]\n",
        "\n",
        "    dj_dw = dj_dw/m\n",
        "    dj_db = dj_db/m\n",
        "\n",
        "\n",
        "    return dj_db, dj_dw\n"
      ],
      "metadata": {
        "id": "tD9LsfKsivEc"
      },
      "execution_count": 15,
      "outputs": []
    },
    {
      "cell_type": "code",
      "source": [
        "initial_w = np.zeros(n)\n",
        "initial_b = 0.\n",
        "\n",
        "dj_db, dj_dw = gradient(X_train, y_train, initial_w, initial_b)\n",
        "print(f'dj_db at initial w and b (zeros):{dj_db}' )\n",
        "print(f'dj_dw at initial w and b (zeros):{dj_dw.tolist()}' )"
      ],
      "metadata": {
        "colab": {
          "base_uri": "https://localhost:8080/"
        },
        "id": "hE00mR6TV6hn",
        "outputId": "4c693d8e-9607-4146-96d7-147989559d3a"
      },
      "execution_count": 17,
      "outputs": [
        {
          "output_type": "stream",
          "name": "stdout",
          "text": [
            "dj_db at initial w and b (zeros):-0.1\n",
            "dj_dw at initial w and b (zeros):[-12.00921658929115, -11.262842205513591]\n"
          ]
        }
      ]
    },
    {
      "cell_type": "markdown",
      "source": [
        "#**Learning parameters using Gradient Descent**"
      ],
      "metadata": {
        "id": "GXDiqLmUWo34"
      }
    },
    {
      "cell_type": "code",
      "source": [
        "def gradient_descent(X, y, w_in, b_in, cost_function, gradient, alpha, num_iters, lambda_):\n",
        "    m = len(X)\n",
        "    J_history = []\n",
        "    w_history = []\n",
        "\n",
        "    for i in range(num_iters):\n",
        "\n",
        "        # Calculate the gradient and update the parameters\n",
        "        dj_db, dj_dw = gradient(X, y, w_in, b_in)\n",
        "\n",
        "        # Update Parameters using w, b, alpha and gradient\n",
        "        w_in = w_in - alpha * dj_dw\n",
        "        b_in = b_in - alpha * dj_db\n",
        "\n",
        "        # Save cost J at each iteration\n",
        "        if i<100000:      # prevent resource exhaustion\n",
        "            cost =  cost_function(X, y, w_in, b_in)\n",
        "            J_history.append(cost)\n",
        "\n",
        "        # Print cost every at intervals 10 times or as many iterations if < 10\n",
        "        if i% math.ceil(num_iters/10) == 0 or i == (num_iters-1):\n",
        "            w_history.append(w_in)\n",
        "            print(f\"Iteration {i:4}: Cost {float(J_history[-1]):8.2f}   \")\n",
        "\n",
        "    return w_in, b_in, J_history, w_history #return w and J,w history for graphing"
      ],
      "metadata": {
        "id": "DotH3h69WfpE"
      },
      "execution_count": 26,
      "outputs": []
    },
    {
      "cell_type": "code",
      "source": [
        "np.random.seed(143)\n",
        "initial_w = 0.01 * (np.random.rand(2) - 0.5)\n",
        "initial_b = -8\n",
        "\n",
        "# Some gradient descent settings\n",
        "iterations = 10000\n",
        "alpha = 0.001\n",
        "\n",
        "w,b, J_history,_ = gradient_descent(X_train ,y_train, initial_w, initial_b,\n",
        "                                   compute_cost, gradient, alpha, iterations, 0)"
      ],
      "metadata": {
        "colab": {
          "base_uri": "https://localhost:8080/"
        },
        "id": "S2QpSBqOXix2",
        "outputId": "f361149f-db4b-496a-e19d-3f6832f5ab82"
      },
      "execution_count": 27,
      "outputs": [
        {
          "output_type": "stream",
          "name": "stdout",
          "text": [
            "Iteration    0: Cost     0.98   \n",
            "Iteration 1000: Cost     0.31   \n",
            "Iteration 2000: Cost     0.30   \n",
            "Iteration 3000: Cost     0.30   \n",
            "Iteration 4000: Cost     0.30   \n",
            "Iteration 5000: Cost     0.30   \n",
            "Iteration 6000: Cost     0.30   \n",
            "Iteration 7000: Cost     0.30   \n",
            "Iteration 8000: Cost     0.30   \n",
            "Iteration 9000: Cost     0.30   \n",
            "Iteration 9999: Cost     0.30   \n"
          ]
        }
      ]
    },
    {
      "cell_type": "markdown",
      "source": [
        "#**Plotting decision boundary**"
      ],
      "metadata": {
        "id": "3Et7P-PbYi3F"
      }
    },
    {
      "cell_type": "code",
      "source": [
        "def plot_decision_boundary(w, b, X, y):\n",
        "\n",
        "    plot_data(X[:, 0:2], y)\n",
        "\n",
        "    if X.shape[1] <= 2:\n",
        "        plot_x = np.array([min(X[:, 0]), max(X[:, 0])])\n",
        "        plot_y = (-1. / w[1]) * (w[0] * plot_x + b)\n",
        "\n",
        "        plt.plot(plot_x, plot_y, c=\"b\")\n",
        "\n",
        "    else:\n",
        "        u = np.linspace(-1, 1.5, 50)\n",
        "        v = np.linspace(-1, 1.5, 50)\n",
        "\n",
        "        z = np.zeros((len(u), len(v)))\n",
        "\n",
        "        # Evaluate z = theta*x over the grid\n",
        "        for i in range(len(u)):\n",
        "            for j in range(len(v)):\n",
        "                z[i,j] = sig(np.dot(map_feature(u[i], v[j]), w) + b)\n",
        "\n",
        "        # important to transpose z before calling contour\n",
        "        z = z.T\n",
        "\n",
        "        # Plot z = 0.5\n",
        "        plt.contour(u,v,z, levels = [0.5], colors=\"g\")"
      ],
      "metadata": {
        "id": "umwSG1-GYrhd"
      },
      "execution_count": 29,
      "outputs": []
    },
    {
      "cell_type": "code",
      "source": [
        "plot_decision_boundary(w, b, X_train, y_train)\n",
        "plt.ylabel('Exam 2 score')\n",
        "plt.xlabel('Exam 1 score')\n",
        "plt.legend(loc=\"upper right\")\n",
        "plt.show()"
      ],
      "metadata": {
        "colab": {
          "base_uri": "https://localhost:8080/",
          "height": 449
        },
        "id": "R5AOxqP_XmSC",
        "outputId": "39e61d83-49f1-417f-c540-0fda838d3405"
      },
      "execution_count": 30,
      "outputs": [
        {
          "output_type": "display_data",
          "data": {
            "text/plain": [
              "<Figure size 640x480 with 1 Axes>"
            ],
            "image/png": "[encoded data removed]"
          },
          "metadata": {}
        }
      ]
    },
    {
      "cell_type": "markdown",
      "source": [
        "#**Evaluating Logistic Regression**"
      ],
      "metadata": {
        "id": "frnP8VJiZ6yQ"
      }
    },
    {
      "cell_type": "code",
      "source": [
        "def predict(X, w, b):\n",
        "    m, n = X.shape\n",
        "    p = np.zeros(m)\n",
        "\n",
        "    # Loop over each example\n",
        "    for i in range(m):\n",
        "        z_wb = 0\n",
        "        # Loop over each feature\n",
        "        for j in range(n):\n",
        "            # Add the corresponding term to z_wb\n",
        "            z_wb += X[i, j] * w[j]\n",
        "\n",
        "        # Add bias term\n",
        "        z_wb += b\n",
        "\n",
        "        # Calculate the prediction for this example\n",
        "        f_wb = sigmoid(z_wb)\n",
        "\n",
        "        # Apply the threshold\n",
        "        p[i] = (f_wb >= 0.5).astype(int)\n",
        "\n",
        "    ### END CODE HERE ###\n",
        "    return p"
      ],
      "metadata": {
        "id": "qlZLl27bYqhN"
      },
      "execution_count": 32,
      "outputs": []
    },
    {
      "cell_type": "code",
      "source": [
        "p = predict(X_train, w,b)\n",
        "print('Train Accuracy: %f'%(np.mean(p == y_train) * 100))"
      ],
      "metadata": {
        "colab": {
          "base_uri": "https://localhost:8080/"
        },
        "id": "_9ZWR5tLcQWB",
        "outputId": "009145d0-054b-49b3-d997-6998c669ef45"
      },
      "execution_count": 33,
      "outputs": [
        {
          "output_type": "stream",
          "name": "stdout",
          "text": [
            "Train Accuracy: 92.000000\n"
          ]
        }
      ]
    },
    {
      "cell_type": "markdown",
      "source": [
        "#**Regularized Logistic Regression**"
      ],
      "metadata": {
        "id": "BxcEoI72deEO"
      }
    },
    {
      "cell_type": "code",
      "source": [],
      "metadata": {
        "id": "DQVEJSfhcTyr"
      },
      "execution_count": null,
      "outputs": []
    }
  ]
}