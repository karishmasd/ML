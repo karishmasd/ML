{
  "nbformat": 4,
  "nbformat_minor": 0,
  "metadata": {
    "colab": {
      "provenance": [],
      "mount_file_id": "1AoPuVYTsnU01Jc0oO7YVpYNYEbRsmWHb",
      "authorship_tag": "ABX9TyMGoJ7OwcDw5G07RzfOf+r4",
      "include_colab_link": true
    },
    "kernelspec": {
      "name": "python3",
      "display_name": "Python 3"
    },
    "language_info": {
      "name": "python"
    }
  },
  "cells": [
    {
      "cell_type": "markdown",
      "metadata": {
        "id": "view-in-github",
        "colab_type": "text"
      },
      "source": [
        "<a href=\"https://colab.research.google.com/github/karishmasd/ML/blob/main/Logistic_Regression.ipynb\" target=\"_parent\"><img src=\"https://colab.research.google.com/assets/colab-badge.svg\" alt=\"Open In Colab\"/></a>"
      ]
    },
    {
      "cell_type": "code",
      "execution_count": 1,
      "metadata": {
        "id": "AiDlCHNgpCL_"
      },
      "outputs": [],
      "source": [
        "import numpy as np\n",
        "import math\n",
        "import copy\n",
        "import matplotlib.pyplot as plt\n",
        "%matplotlib inline\n"
      ]
    },
    {
      "cell_type": "markdown",
      "source": [
        "#**Data**"
      ],
      "metadata": {
        "id": "g37SXmXG08rt"
      }
    },
    {
      "cell_type": "code",
      "source": [
        "def load_data():\n",
        "    data = np.loadtxt(\"/content/drive/MyDrive/Data/ex2data1.txt\", delimiter=',')\n",
        "    X = data[:,:2]\n",
        "    y = data[:,2]\n",
        "    return X, y\n"
      ],
      "metadata": {
        "id": "5BtN-P3S4kAE"
      },
      "execution_count": 2,
      "outputs": []
    },
    {
      "cell_type": "code",
      "source": [
        "X_train,y_train=load_data()"
      ],
      "metadata": {
        "id": "sxvXoDox1Dyu"
      },
      "execution_count": 3,
      "outputs": []
    },
    {
      "cell_type": "code",
      "source": [
        "X_train[:5]"
      ],
      "metadata": {
        "colab": {
          "base_uri": "https://localhost:8080/"
        },
        "id": "JqmeidkQ4nkp",
        "outputId": "8210fe35-bd6c-4301-b005-37d46853b570"
      },
      "execution_count": 4,
      "outputs": [
        {
          "output_type": "execute_result",
          "data": {
            "text/plain": [
              "array([[34.62365962, 78.02469282],\n",
              "       [30.28671077, 43.89499752],\n",
              "       [35.84740877, 72.90219803],\n",
              "       [60.18259939, 86.3085521 ],\n",
              "       [79.03273605, 75.34437644]])"
            ]
          },
          "metadata": {},
          "execution_count": 4
        }
      ]
    },
    {
      "cell_type": "code",
      "source": [
        "y_train[:5]"
      ],
      "metadata": {
        "colab": {
          "base_uri": "https://localhost:8080/"
        },
        "id": "PtkGE5iX4v-m",
        "outputId": "06aa895b-28a8-4245-b3b1-729bc485e6d7"
      },
      "execution_count": 5,
      "outputs": [
        {
          "output_type": "execute_result",
          "data": {
            "text/plain": [
              "array([0., 0., 0., 1., 1.])"
            ]
          },
          "metadata": {},
          "execution_count": 5
        }
      ]
    },
    {
      "cell_type": "code",
      "source": [
        "X_train.shape"
      ],
      "metadata": {
        "colab": {
          "base_uri": "https://localhost:8080/"
        },
        "id": "EOCY0jgx4yVJ",
        "outputId": "267aefc1-fb5e-455f-eefc-e7e058dd5f65"
      },
      "execution_count": 6,
      "outputs": [
        {
          "output_type": "execute_result",
          "data": {
            "text/plain": [
              "(100, 2)"
            ]
          },
          "metadata": {},
          "execution_count": 6
        }
      ]
    },
    {
      "cell_type": "code",
      "source": [
        "y_train.shape"
      ],
      "metadata": {
        "colab": {
          "base_uri": "https://localhost:8080/"
        },
        "id": "50pJ-Rre5Y45",
        "outputId": "e7b8d931-a524-41ae-a77e-df221fabe2be"
      },
      "execution_count": 7,
      "outputs": [
        {
          "output_type": "execute_result",
          "data": {
            "text/plain": [
              "(100,)"
            ]
          },
          "metadata": {},
          "execution_count": 7
        }
      ]
    },
    {
      "cell_type": "code",
      "source": [
        "def plot_data(X, y, pos_label=\"y=1\", neg_label=\"y=0\"):\n",
        "    positive = y == 1\n",
        "    negative = y == 0\n",
        "\n",
        "    # Plot examples\n",
        "    plt.plot(X[positive, 0], X[positive, 1], 'k+', label=pos_label)\n",
        "    plt.plot(X[negative, 0], X[negative, 1], 'yo', label=neg_label)\n",
        "\n"
      ],
      "metadata": {
        "id": "StBiJalP58Cs"
      },
      "execution_count": 8,
      "outputs": []
    },
    {
      "cell_type": "code",
      "source": [
        "plot_data(X_train, y_train[:], pos_label=\"Admitted\", neg_label=\"Not admitted\")\n",
        "plt.ylabel('Exam 2 score')\n",
        "plt.xlabel('Exam 1 score')\n",
        "plt.legend(loc=\"upper right\",fontsize=8)\n",
        "plt.show()"
      ],
      "metadata": {
        "colab": {
          "base_uri": "https://localhost:8080/",
          "height": 449
        },
        "id": "b35jRG6x5o64",
        "outputId": "28aeb70b-d081-43d8-ac56-27b90ccb6dee"
      },
      "execution_count": 9,
      "outputs": [
        {
          "output_type": "display_data",
          "data": {
            "text/plain": [
              "<Figure size 640x480 with 1 Axes>"
            ],
            "image/png": "[encoded data removed]"
          },
          "metadata": {}
        }
      ]
    },
    {
      "cell_type": "markdown",
      "source": [
        "#**Sigmoid function**"
      ],
      "metadata": {
        "id": "rjXL2xfZgcNd"
      }
    },
    {
      "cell_type": "code",
      "source": [
        "def sigmoid(z):\n",
        "  s=1/(1+np.exp(-z))\n",
        "  return s"
      ],
      "metadata": {
        "id": "IOYC6CJ75_q-"
      },
      "execution_count": 10,
      "outputs": []
    },
    {
      "cell_type": "code",
      "source": [
        "# checking sigmoid function we know that  sigmoid of 0 should be 0.5\n",
        "check_value=0\n",
        "sigmoid(check_value)"
      ],
      "metadata": {
        "colab": {
          "base_uri": "https://localhost:8080/"
        },
        "id": "yRsWam2OgpET",
        "outputId": "ccc4ce0e-1571-4a07-c8dd-12be1a9512a4"
      },
      "execution_count": 11,
      "outputs": [
        {
          "output_type": "execute_result",
          "data": {
            "text/plain": [
              "0.5"
            ]
          },
          "metadata": {},
          "execution_count": 11
        }
      ]
    },
    {
      "cell_type": "markdown",
      "source": [
        "#**Cost Function for logistic Regression**"
      ],
      "metadata": {
        "id": "JaP_fF_ohC5Z"
      }
    },
    {
      "cell_type": "code",
      "source": [
        "def compute_cost(X,y,w,b):\n",
        "  total_cost=0\n",
        "  m=X_train.shape[0]\n",
        "  for i in range(m):\n",
        "    f=np.dot(X[i],w)+b\n",
        "    cost=-((y[i]*np.log(sigmoid(f)))+((1-y[i])*np.log(1-sigmoid(f))))\n",
        "    total_cost+=cost\n",
        "  total_cost=total_cost/m\n",
        "  return total_cost"
      ],
      "metadata": {
        "id": "yVr5qqkBg77m"
      },
      "execution_count": 12,
      "outputs": []
    },
    {
      "cell_type": "code",
      "source": [
        "m, n = X_train.shape\n",
        "initial_w = np.zeros(n)\n",
        "initial_b = 0.\n",
        "cost = compute_cost(X_train, y_train, initial_w, initial_b)\n",
        "print('Cost at initial w and b (zeros): {:.3f}'.format(cost))"
      ],
      "metadata": {
        "colab": {
          "base_uri": "https://localhost:8080/"
        },
        "id": "-AYEjJ8yihq3",
        "outputId": "46495c5f-c676-4a27-8db0-2e2dc1e3374c"
      },
      "execution_count": 13,
      "outputs": [
        {
          "output_type": "stream",
          "name": "stdout",
          "text": [
            "Cost at initial w and b (zeros): 0.693\n"
          ]
        }
      ]
    },
    {
      "cell_type": "markdown",
      "source": [
        "#**Gradient for logistic regression**"
      ],
      "metadata": {
        "id": "oilSKZPIi8ZW"
      }
    },
    {
      "cell_type": "code",
      "source": [
        "def_gradient(x,y,w,b)"
      ],
      "metadata": {
        "id": "tD9LsfKsivEc"
      },
      "execution_count": null,
      "outputs": []
    }
  ]
}