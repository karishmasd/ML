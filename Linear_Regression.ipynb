{
  "nbformat": 4,
  "nbformat_minor": 0,
  "metadata": {
    "colab": {
      "provenance": [],
      "mount_file_id": "1HE_lBcxvuxgihM51xQtx5HCGinvyyqug",
      "authorship_tag": "ABX9TyM6JcbmlmTxjMgfOQyG+UG3",
      "include_colab_link": true
    },
    "kernelspec": {
      "name": "python3",
      "display_name": "Python 3"
    },
    "language_info": {
      "name": "python"
    }
  },
  "cells": [
    {
      "cell_type": "markdown",
      "metadata": {
        "id": "view-in-github",
        "colab_type": "text"
      },
      "source": [
        "<a href=\"https://colab.research.google.com/github/karishmasd/ML/blob/main/Linear_Regression.ipynb\" target=\"_parent\"><img src=\"https://colab.research.google.com/assets/colab-badge.svg\" alt=\"Open In Colab\"/></a>"
      ]
    },
    {
      "cell_type": "code",
      "execution_count": 2,
      "metadata": {
        "id": "Jt33b6ZLUGaN"
      },
      "outputs": [],
      "source": [
        "import numpy as np\n",
        "import matplotlib.pyplot as plt\n",
        "%matplotlib inline\n"
      ]
    },
    {
      "cell_type": "markdown",
      "source": [
        "# Data"
      ],
      "metadata": {
        "id": "R4fs2ybRjDHq"
      }
    },
    {
      "cell_type": "code",
      "source": [
        "def load_data():\n",
        "    data = np.loadtxt(\"/content/drive/MyDrive/Data/ex1data1.txt\", delimiter=',')\n",
        "    X = data[:,0]\n",
        "    y = data[:,1]\n",
        "    return X, y\n"
      ],
      "metadata": {
        "id": "77-NnTuIhHHN"
      },
      "execution_count": 3,
      "outputs": []
    },
    {
      "cell_type": "code",
      "source": [
        "x_train,y_train=load_data()\n",
        "x_train.shape,y_train.shape"
      ],
      "metadata": {
        "colab": {
          "base_uri": "https://localhost:8080/"
        },
        "id": "C7A5yuPwj6dp",
        "outputId": "ee1663dd-3ea9-40c4-b549-94904bdb1e3b"
      },
      "execution_count": 4,
      "outputs": [
        {
          "output_type": "execute_result",
          "data": {
            "text/plain": [
              "((97,), (97,))"
            ]
          },
          "metadata": {},
          "execution_count": 4
        }
      ]
    },
    {
      "cell_type": "code",
      "source": [
        "x_train[:5]"
      ],
      "metadata": {
        "colab": {
          "base_uri": "https://localhost:8080/"
        },
        "id": "H7Adyo8skOOw",
        "outputId": "038ab41d-bc36-448b-edee-35dac09d4ceb"
      },
      "execution_count": 5,
      "outputs": [
        {
          "output_type": "execute_result",
          "data": {
            "text/plain": [
              "array([6.1101, 5.5277, 8.5186, 7.0032, 5.8598])"
            ]
          },
          "metadata": {},
          "execution_count": 5
        }
      ]
    },
    {
      "cell_type": "code",
      "source": [
        "y_train[:5]"
      ],
      "metadata": {
        "colab": {
          "base_uri": "https://localhost:8080/"
        },
        "id": "TnWX2WqfkWEB",
        "outputId": "6fc60e0c-4ea6-429b-e146-f900b7e1166a"
      },
      "execution_count": 6,
      "outputs": [
        {
          "output_type": "execute_result",
          "data": {
            "text/plain": [
              "array([17.592 ,  9.1302, 13.662 , 11.854 ,  6.8233])"
            ]
          },
          "metadata": {},
          "execution_count": 6
        }
      ]
    },
    {
      "cell_type": "code",
      "source": [
        "plt.scatter(x_train,y_train,marker='x',c='r')\n",
        "plt.title(\"Profits vs. Population per city\")\n",
        "plt.ylabel('Profit in $10,000')\n",
        "plt.xlabel('Population of City in 10,000s')"
      ],
      "metadata": {
        "colab": {
          "base_uri": "https://localhost:8080/",
          "height": 489
        },
        "id": "VqMgRb1wkcuv",
        "outputId": "e870745f-9728-4596-fcf2-0b689efb4acf"
      },
      "execution_count": 7,
      "outputs": [
        {
          "output_type": "execute_result",
          "data": {
            "text/plain": [
              "Text(0.5, 0, 'Population of City in 10,000s')"
            ]
          },
          "metadata": {},
          "execution_count": 7
        },
        {
          "output_type": "display_data",
          "data": {
            "text/plain": [
              "<Figure size 640x480 with 1 Axes>"
            ],
            "image/png": "[encoded data removed]"
          },
          "metadata": {}
        }
      ]
    },
    {
      "cell_type": "markdown",
      "source": [
        "#**Compute Cost**"
      ],
      "metadata": {
        "id": "eG1yLLhdYujP"
      }
    },
    {
      "cell_type": "code",
      "source": [
        " def compute_cost(x, y, w, b):\n",
        "    m = x.shape[0]\n",
        "    total_cost = 0\n",
        "\n",
        "    for i in range(m):\n",
        "        y_hat = w * x[i] + b\n",
        "        cost = (y_hat - y[i]) ** 2\n",
        "        total_cost += cost\n",
        "\n",
        "    total_cost = total_cost / (2 * m)\n",
        "\n",
        "    return total_cost"
      ],
      "metadata": {
        "id": "TkfFE7tqk9v0"
      },
      "execution_count": 9,
      "outputs": []
    },
    {
      "cell_type": "markdown",
      "source": [
        "#**Gradient Descent**"
      ],
      "metadata": {
        "id": "EbPSK-HVaiJq"
      }
    },
    {
      "cell_type": "code",
      "source": [
        "def compute_gradient(x,y,w,b):\n",
        "  m=x.shape[0]\n",
        "  dj_dw = 0\n",
        "  dj_db = 0\n",
        "  for i in range (m ):\n",
        "    y_hat=w*x[i]+b\n",
        "    dj_dw_i=(y_hat-y[i])*x[i]\n",
        "    dj_db_i=(y_hat-y[i])\n",
        "    dj_dw+=dj_dw_i\n",
        "    dj_db+=dj_db_i\n",
        "  dj_dw=dj_dw/m\n",
        "  dj_db=dj_db/m\n",
        "  return dj_dw,dj_db"
      ],
      "metadata": {
        "id": "7w6WKmbMZgpW"
      },
      "execution_count": 11,
      "outputs": []
    },
    {
      "cell_type": "code",
      "source": [],
      "metadata": {
        "id": "BjIgYpW4beUg"
      },
      "execution_count": null,
      "outputs": []
    }
  ]
}