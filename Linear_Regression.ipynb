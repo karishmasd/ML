{
  "nbformat": 4,
  "nbformat_minor": 0,
  "metadata": {
    "colab": {
      "provenance": [],
      "mount_file_id": "1HE_lBcxvuxgihM51xQtx5HCGinvyyqug",
      "authorship_tag": "ABX9TyPU9PHXTwc/DBo5cqY7xWmk",
      "include_colab_link": true
    },
    "kernelspec": {
      "name": "python3",
      "display_name": "Python 3"
    },
    "language_info": {
      "name": "python"
    }
  },
  "cells": [
    {
      "cell_type": "markdown",
      "metadata": {
        "id": "view-in-github",
        "colab_type": "text"
      },
      "source": [
        "<a href=\"https://colab.research.google.com/github/karishmasd/ML/blob/main/Linear_Regression.ipynb\" target=\"_parent\"><img src=\"https://colab.research.google.com/assets/colab-badge.svg\" alt=\"Open In Colab\"/></a>"
      ]
    },
    {
      "cell_type": "markdown",
      "source": [
        "**The code implements a simple linear regression model using gradient descent to predict profits based on population size. It involves loading data, defining a cost function to measure prediction errors, iteratively adjusting model parameters using gradient descent to minimize the cost, and visualizing the results with a regression line plotted against the training data. Finally, it uses the trained model to predict profits for specific population**"
      ],
      "metadata": {
        "id": "-gb1Q_Sh79ML"
      }
    },
    {
      "cell_type": "code",
      "execution_count": null,
      "metadata": {
        "id": "Jt33b6ZLUGaN"
      },
      "outputs": [],
      "source": [
        "import numpy as np\n",
        "import matplotlib.pyplot as plt\n",
        "import copy\n",
        "import math\n",
        "%matplotlib inline\n"
      ]
    },
    {
      "cell_type": "markdown",
      "source": [
        "# **Data**"
      ],
      "metadata": {
        "id": "R4fs2ybRjDHq"
      }
    },
    {
      "cell_type": "code",
      "source": [
        "def load_data():\n",
        "    data = np.loadtxt(\"/content/drive/MyDrive/Data/ex1data1.txt\", delimiter=',')\n",
        "    X = data[:,0]\n",
        "    y = data[:,1]\n",
        "    return X, y\n"
      ],
      "metadata": {
        "id": "77-NnTuIhHHN"
      },
      "execution_count": null,
      "outputs": []
    },
    {
      "cell_type": "code",
      "source": [
        "x_train,y_train=load_data()\n",
        "x_train.shape,y_train.shape"
      ],
      "metadata": {
        "colab": {
          "base_uri": "https://localhost:8080/"
        },
        "id": "C7A5yuPwj6dp",
        "outputId": "3cb86baa-8456-4703-e9b7-980264c688f6"
      },
      "execution_count": null,
      "outputs": [
        {
          "output_type": "execute_result",
          "data": {
            "text/plain": [
              "((97,), (97,))"
            ]
          },
          "metadata": {},
          "execution_count": 30
        }
      ]
    },
    {
      "cell_type": "code",
      "source": [
        "x_train[:5]"
      ],
      "metadata": {
        "colab": {
          "base_uri": "https://localhost:8080/"
        },
        "id": "H7Adyo8skOOw",
        "outputId": "39cbb84a-1fd3-49d0-b205-848b7797d7b7"
      },
      "execution_count": null,
      "outputs": [
        {
          "output_type": "execute_result",
          "data": {
            "text/plain": [
              "array([6.1101, 5.5277, 8.5186, 7.0032, 5.8598])"
            ]
          },
          "metadata": {},
          "execution_count": 31
        }
      ]
    },
    {
      "cell_type": "code",
      "source": [
        "y_train[:5]"
      ],
      "metadata": {
        "colab": {
          "base_uri": "https://localhost:8080/"
        },
        "id": "TnWX2WqfkWEB",
        "outputId": "c40cd4e1-002b-4cad-d569-2d4d4cd72b74"
      },
      "execution_count": null,
      "outputs": [
        {
          "output_type": "execute_result",
          "data": {
            "text/plain": [
              "array([17.592 ,  9.1302, 13.662 , 11.854 ,  6.8233])"
            ]
          },
          "metadata": {},
          "execution_count": 32
        }
      ]
    },
    {
      "cell_type": "code",
      "source": [
        "plt.scatter(x_train,y_train,marker='x',c='r')\n",
        "plt.title(\"Profits vs. Population per city\")\n",
        "plt.ylabel('Profit in $10,000')\n",
        "plt.xlabel('Population of City in 10,000s')"
      ],
      "metadata": {
        "colab": {
          "base_uri": "https://localhost:8080/",
          "height": 489
        },
        "id": "VqMgRb1wkcuv",
        "outputId": "a27a5e97-ea98-4228-bfa7-49f70595334d"
      },
      "execution_count": null,
      "outputs": [
        {
          "output_type": "execute_result",
          "data": {
            "text/plain": [
              "Text(0.5, 0, 'Population of City in 10,000s')"
            ]
          },
          "metadata": {},
          "execution_count": 33
        },
        {
          "output_type": "display_data",
          "data": {
            "text/plain": [
              "<Figure size 640x480 with 1 Axes>"
            ],
            "image/png": "[encoded data removed]"
          },
          "metadata": {}
        }
      ]
    },
    {
      "cell_type": "markdown",
      "source": [
        "#**Compute Cost**"
      ],
      "metadata": {
        "id": "eG1yLLhdYujP"
      }
    },
    {
      "cell_type": "code",
      "source": [
        " def compute_cost(x, y, w, b):\n",
        "    m = x.shape[0]\n",
        "    total_cost = 0\n",
        "\n",
        "    for i in range(m):\n",
        "        y_hat = w * x[i] + b\n",
        "        cost = (y_hat - y[i]) ** 2\n",
        "        total_cost += cost\n",
        "\n",
        "    total_cost = total_cost / (2 * m)\n",
        "\n",
        "    return total_cost"
      ],
      "metadata": {
        "id": "TkfFE7tqk9v0"
      },
      "execution_count": null,
      "outputs": []
    },
    {
      "cell_type": "markdown",
      "source": [
        "#**Gradient Descent**"
      ],
      "metadata": {
        "id": "EbPSK-HVaiJq"
      }
    },
    {
      "cell_type": "code",
      "source": [
        "def compute_gradient(x,y,w,b):\n",
        "  m=x.shape[0]\n",
        "  dj_dw = 0\n",
        "  dj_db = 0\n",
        "  for i in range (m ):\n",
        "    y_hat=w*x[i]+b\n",
        "    dj_dw_i=(y_hat-y[i])*x[i]\n",
        "    dj_db_i=(y_hat-y[i])\n",
        "    dj_dw+=dj_dw_i\n",
        "    dj_db+=dj_db_i\n",
        "  dj_dw=dj_dw/m\n",
        "  dj_db=dj_db/m\n",
        "  return dj_dw,dj_db"
      ],
      "metadata": {
        "id": "7w6WKmbMZgpW"
      },
      "execution_count": null,
      "outputs": []
    },
    {
      "cell_type": "code",
      "source": [
        "def gradient_descent(x, y, w_in, b_in, cost_function, gradient_function, alpha, num_iters):\n",
        "  m=x.shape[0]\n",
        "  J_history = []\n",
        "  w_history = []\n",
        "  w = copy.deepcopy(w_in)\n",
        "  b = b_in\n",
        "  for i in range(num_iters):\n",
        "    dj_dw,dj_db=compute_gradient(x,y,w,b)\n",
        "    w=w-alpha*dj_dw\n",
        "    b=b-alpha*dj_db\n",
        "    if i<100000:\n",
        "      J_history.append( compute_cost(x, y, w , b))\n",
        "    if i% math.ceil(num_iters/10) == 0:\n",
        "      w_history.append(w)\n",
        "      print(f\"Iteration {i:4}: Cost {float(J_history[-1]):8.2f}   \")\n",
        "\n",
        "  return w, b, J_history, w_history\n"
      ],
      "metadata": {
        "id": "BjIgYpW4beUg"
      },
      "execution_count": null,
      "outputs": []
    },
    {
      "cell_type": "code",
      "source": [
        "initial_w = 0.\n",
        "initial_b = 0.\n",
        "\n",
        "# some gradient descent settings\n",
        "iterations = 2000\n",
        "alpha = 0.009\n",
        "\n",
        "w,b,_,_ = gradient_descent(x_train ,y_train, initial_w, initial_b,compute_cost, compute_gradient, alpha, iterations)\n",
        "print(\"w,b found by gradient descent:\", w, b)"
      ],
      "metadata": {
        "colab": {
          "base_uri": "https://localhost:8080/"
        },
        "id": "agULf0vChkTz",
        "outputId": "658d64d1-03c4-4fb4-aa50-c8f1e053b448"
      },
      "execution_count": null,
      "outputs": [
        {
          "output_type": "stream",
          "name": "stdout",
          "text": [
            "Iteration    0: Cost     7.68   \n",
            "Iteration  200: Cost     5.23   \n",
            "Iteration  400: Cost     4.87   \n",
            "Iteration  600: Cost     4.68   \n",
            "Iteration  800: Cost     4.58   \n",
            "Iteration 1000: Cost     4.53   \n",
            "Iteration 1200: Cost     4.51   \n",
            "Iteration 1400: Cost     4.49   \n",
            "Iteration 1600: Cost     4.48   \n",
            "Iteration 1800: Cost     4.48   \n",
            "w,b found by gradient descent: 1.1775061196556194 -3.7412179313955325\n"
          ]
        }
      ]
    },
    {
      "cell_type": "markdown",
      "source": [
        "#**Regression line**"
      ],
      "metadata": {
        "id": "GpZiSOhE7eQQ"
      }
    },
    {
      "cell_type": "code",
      "source": [
        "m = x_train.shape[0]\n",
        "predicted = np.zeros(m)\n",
        "\n",
        "for i in range(m):\n",
        "    predicted[i] = w * x_train[i] + b"
      ],
      "metadata": {
        "id": "Fc3t-d-bh4jk"
      },
      "execution_count": null,
      "outputs": []
    },
    {
      "cell_type": "code",
      "source": [
        "\n",
        "plt.plot(x_train, predicted, c = \"b\")\n",
        "\n",
        "# Create a scatter plot of the data.\n",
        "plt.scatter(x_train, y_train, marker='x', c='r')\n",
        "plt.title(\"Profits vs. Population per city\")\n",
        "plt.ylabel('Profit in $10,000')\n",
        "plt.xlabel('Population of City in 10,000s')"
      ],
      "metadata": {
        "colab": {
          "base_uri": "https://localhost:8080/",
          "height": 489
        },
        "id": "m47zw4oOiVGT",
        "outputId": "248a7659-e496-4098-c174-09751de76f0f"
      },
      "execution_count": null,
      "outputs": [
        {
          "output_type": "execute_result",
          "data": {
            "text/plain": [
              "Text(0.5, 0, 'Population of City in 10,000s')"
            ]
          },
          "metadata": {},
          "execution_count": 55
        },
        {
          "output_type": "display_data",
          "data": {
            "text/plain": [
              "<Figure size 640x480 with 1 Axes>"
            ],
            "image/png": "[encoded data removed]"
          },
          "metadata": {}
        }
      ]
    },
    {
      "cell_type": "markdown",
      "source": [
        "#**Predictions**"
      ],
      "metadata": {
        "id": "3O9ez9sq8JpT"
      }
    },
    {
      "cell_type": "code",
      "source": [
        "predict1 = 7.9* w + b\n",
        "print('For population = 79,000, we predict a profit of $%.2f' % (predict1*10000))\n",
        "\n",
        "predict2 = 9* w + b\n",
        "print('For population = 90,000, we predict a profit of $%.2f' % (predict2*10000))"
      ],
      "metadata": {
        "colab": {
          "base_uri": "https://localhost:8080/"
        },
        "id": "0Mxur7LqiavI",
        "outputId": "86cbf076-2474-4615-a42d-7b6f950f68be"
      },
      "execution_count": null,
      "outputs": [
        {
          "output_type": "stream",
          "name": "stdout",
          "text": [
            "For population = 79,000, we predict a profit of $55610.80\n",
            "For population = 90,000, we predict a profit of $68563.37\n"
          ]
        }
      ]
    },
    {
      "cell_type": "code",
      "source": [],
      "metadata": {
        "id": "o575eEU2icTE"
      },
      "execution_count": null,
      "outputs": []
    }
  ]
}